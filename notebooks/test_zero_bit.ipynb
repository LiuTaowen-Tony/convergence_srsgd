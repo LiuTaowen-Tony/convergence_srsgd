{
 "cells": [
  {
   "cell_type": "code",
   "execution_count": 2,
   "metadata": {},
   "outputs": [
    {
     "name": "stdout",
     "output_type": "stream",
     "text": [
      "tensor([[ 1.1018, -0.4849, -0.3823,  0.0072,  0.3023],\n",
      "        [-0.5042,  2.1079, -0.7276,  0.6558, -1.7717],\n",
      "        [-0.9293,  0.6492,  0.8897,  0.9741,  0.9357],\n",
      "        [-0.5555,  1.7011,  1.8253,  0.3090,  1.9695],\n",
      "        [ 0.1777,  2.9094,  3.8829,  1.1143, -1.7042]])\n"
     ]
    }
   ],
   "source": [
    "import torch\n",
    "from qtorch import FloatingPoint\n",
    "from qtorch.quant import Quantizer, quantizer\n",
    "\n",
    "# Define a quantizer\n",
    "number = FloatingPoint(3, 0)\n",
    "\n",
    "# Define a quantizer\n",
    "quantizer = Quantizer(number)\n",
    "\n",
    "# Quantize a tensor\n",
    "tensor = torch.randn(5, 5)\n",
    "print(tensor)"
   ]
  },
  {
   "cell_type": "code",
   "execution_count": 3,
   "metadata": {},
   "outputs": [
    {
     "name": "stdout",
     "output_type": "stream",
     "text": [
      "tensor([[ 2.0000, -0.2500, -0.2500,  0.0000,  0.2500],\n",
      "        [-0.5000,  2.0000, -0.5000,  1.0000, -2.0000],\n",
      "        [-1.0000,  1.0000,  1.0000,  1.0000,  1.0000],\n",
      "        [-0.5000,  2.0000,  2.0000,  0.2500,  2.0000],\n",
      "        [ 0.2500,  4.0000,  4.0000,  1.0000, -2.0000]])\n"
     ]
    }
   ],
   "source": [
    "quantized_tensor = quantizer(tensor)\n",
    "\n",
    "print(quantized_tensor)"
   ]
  },
  {
   "cell_type": "code",
   "execution_count": 6,
   "metadata": {},
   "outputs": [],
   "source": [
    "def find_nearest_pow2(x: torch.Tensor):\n",
    "    # can be negative power\n",
    "    return torch.sign(x) * torch.pow(2, torch.round(torch.log2(torch.abs(x))))\n"
   ]
  },
  {
   "cell_type": "code",
   "execution_count": 7,
   "metadata": {},
   "outputs": [
    {
     "data": {
      "text/plain": [
       "tensor([[ 1.0000, -0.5000, -0.5000,  0.0078,  0.2500],\n",
       "        [-0.5000,  2.0000, -1.0000,  0.5000, -2.0000],\n",
       "        [-1.0000,  0.5000,  1.0000,  1.0000,  1.0000],\n",
       "        [-0.5000,  2.0000,  2.0000,  0.2500,  2.0000],\n",
       "        [ 0.2500,  4.0000,  4.0000,  1.0000, -2.0000]])"
      ]
     },
     "execution_count": 7,
     "metadata": {},
     "output_type": "execute_result"
    }
   ],
   "source": [
    "find_nearest_pow2(tensor)"
   ]
  },
  {
   "cell_type": "code",
   "execution_count": null,
   "metadata": {},
   "outputs": [],
   "source": []
  }
 ],
 "metadata": {
  "kernelspec": {
   "display_name": ".venv",
   "language": "python",
   "name": "python3"
  },
  "language_info": {
   "codemirror_mode": {
    "name": "ipython",
    "version": 3
   },
   "file_extension": ".py",
   "mimetype": "text/x-python",
   "name": "python",
   "nbconvert_exporter": "python",
   "pygments_lexer": "ipython3",
   "version": "3.9.18"
  }
 },
 "nbformat": 4,
 "nbformat_minor": 2
}
