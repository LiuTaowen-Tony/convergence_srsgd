{
 "cells": [
  {
   "cell_type": "code",
   "execution_count": 1,
   "metadata": {},
   "outputs": [
    {
     "name": "stdout",
     "output_type": "stream",
     "text": [
      "tensor([[ 0.7423, -1.3774,  0.4534, -0.6612,  0.1877],\n",
      "        [-0.3408, -0.2468, -0.5433, -0.3291,  0.1265],\n",
      "        [ 1.4335,  1.4212,  1.3682, -1.8930,  1.0162],\n",
      "        [ 2.2481, -0.2917,  0.9392,  0.3962,  1.4399],\n",
      "        [-0.6950,  0.4473,  0.0480,  0.9110, -1.1612]])\n"
     ]
    }
   ],
   "source": [
    "import torch\n",
    "from qtorch import FloatingPoint, FixedPoint\n",
    "from qtorch.quant import Quantizer, quantizer\n",
    "\n",
    "# Define a quantizer\n",
    "\n",
    "# Quantize a tensor\n",
    "tensor = torch.randn(5, 5)\n",
    "print(tensor)"
   ]
  },
  {
   "cell_type": "code",
   "execution_count": 13,
   "metadata": {},
   "outputs": [
    {
     "name": "stdout",
     "output_type": "stream",
     "text": [
      "tensor([[ 0.7500, -1.0000,  0.3750, -0.6250,  0.2500],\n",
      "        [-0.3750, -0.2500, -0.5000, -0.3750,  0.1250],\n",
      "        [ 0.8750,  0.8750,  0.8750, -1.0000,  0.8750],\n",
      "        [ 0.8750, -0.3750,  0.8750,  0.3750,  0.8750],\n",
      "        [-0.6250,  0.5000,  0.1250,  0.8750, -1.0000]])\n",
      "tensor([-1.0000, -0.6250, -0.5000, -0.3750, -0.2500,  0.1250,  0.2500,  0.3750,\n",
      "         0.5000,  0.7500,  0.8750])\n"
     ]
    }
   ],
   "source": [
    "# Define a quantizer\n",
    "# number = FloatingPoint(3, 0)\n",
    "number = FixedPoint(4, 3)\n",
    "\n",
    "quantizer = Quantizer(number)\n",
    "\n",
    "qtensor = quantizer(tensor)\n",
    "print(qtensor)\n",
    "print(qtensor.unique())\n"
   ]
  },
  {
   "cell_type": "code",
   "execution_count": 3,
   "metadata": {},
   "outputs": [
    {
     "name": "stdout",
     "output_type": "stream",
     "text": [
      "tensor([[ 2.0000, -0.2500, -0.2500,  0.0000,  0.2500],\n",
      "        [-0.5000,  2.0000, -0.5000,  1.0000, -2.0000],\n",
      "        [-1.0000,  1.0000,  1.0000,  1.0000,  1.0000],\n",
      "        [-0.5000,  2.0000,  2.0000,  0.2500,  2.0000],\n",
      "        [ 0.2500,  4.0000,  4.0000,  1.0000, -2.0000]])\n"
     ]
    }
   ],
   "source": [
    "quantized_tensor = quantizer(tensor)\n",
    "\n",
    "print(quantized_tensor)"
   ]
  },
  {
   "cell_type": "code",
   "execution_count": 6,
   "metadata": {},
   "outputs": [],
   "source": [
    "def find_nearest_pow2(x: torch.Tensor):\n",
    "    # can be negative power\n",
    "    return torch.sign(x) * torch.pow(2, torch.round(torch.log2(torch.abs(x))))\n"
   ]
  },
  {
   "cell_type": "code",
   "execution_count": 7,
   "metadata": {},
   "outputs": [
    {
     "data": {
      "text/plain": [
       "tensor([[ 1.0000, -0.5000, -0.5000,  0.0078,  0.2500],\n",
       "        [-0.5000,  2.0000, -1.0000,  0.5000, -2.0000],\n",
       "        [-1.0000,  0.5000,  1.0000,  1.0000,  1.0000],\n",
       "        [-0.5000,  2.0000,  2.0000,  0.2500,  2.0000],\n",
       "        [ 0.2500,  4.0000,  4.0000,  1.0000, -2.0000]])"
      ]
     },
     "execution_count": 7,
     "metadata": {},
     "output_type": "execute_result"
    }
   ],
   "source": [
    "find_nearest_pow2(tensor)"
   ]
  },
  {
   "cell_type": "code",
   "execution_count": null,
   "metadata": {},
   "outputs": [],
   "source": []
  }
 ],
 "metadata": {
  "kernelspec": {
   "display_name": ".venv",
   "language": "python",
   "name": "python3"
  },
  "language_info": {
   "codemirror_mode": {
    "name": "ipython",
    "version": 3
   },
   "file_extension": ".py",
   "mimetype": "text/x-python",
   "name": "python",
   "nbconvert_exporter": "python",
   "pygments_lexer": "ipython3",
   "version": "3.9.18"
  }
 },
 "nbformat": 4,
 "nbformat_minor": 2
}
