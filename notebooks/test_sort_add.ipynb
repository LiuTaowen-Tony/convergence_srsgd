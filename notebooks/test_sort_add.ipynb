{
 "cells": [
  {
   "cell_type": "code",
   "execution_count": 1,
   "metadata": {},
   "outputs": [
    {
     "name": "stderr",
     "output_type": "stream",
     "text": [
      "/home/tl2020/.local/lib/python3.9/site-packages/torch/utils/cpp_extension.py:1967: UserWarning: TORCH_CUDA_ARCH_LIST is not set, all archs for visible cards are included for compilation. \n",
      "If this is not desired, please set os.environ['TORCH_CUDA_ARCH_LIST'].\n",
      "  warnings.warn(\n"
     ]
    }
   ],
   "source": [
    "import qtorch  \n",
    "import qtorch.quant"
   ]
  },
  {
   "cell_type": "code",
   "execution_count": 11,
   "metadata": {},
   "outputs": [],
   "source": [
    "import heapq\n",
    "import torch\n",
    "\n",
    "def q(x, man=3):\n",
    "    return qtorch.quant.float_quantize(x, 8, man, rounding=\"nearest\")\n",
    "\n",
    "def sorted_add(xs, man):\n",
    "    xs = xs.clone()\n",
    "\n",
    "    xs = list(xs)\n",
    "    # sorted by abs value\n",
    "    xs.sort(key=lambda x: abs(x))\n",
    "    acc = 0\n",
    "    for x in xs:\n",
    "        acc = q(acc + x, man)\n",
    "    return acc.item()\n",
    "\n",
    "def normal_add(xs, man):\n",
    "    xs = xs.clone()\n",
    "    xs = list(xs)\n",
    "    acc = 0\n",
    "    for x in xs:\n",
    "        acc = q(acc + x, man)\n",
    "    return acc.item()\n",
    "\n",
    "def bitree_add(xs, man):\n",
    "    xs = xs.clone()\n",
    "    xs = list(xs)\n",
    "    while len(xs) > 1:\n",
    "        new_xs = []\n",
    "        for i in range(0, len(xs), 2):\n",
    "            if i + 1 < len(xs):\n",
    "                new_xs.append(q(xs[i] + xs[i + 1], man))\n",
    "            else:\n",
    "                new_xs.append(xs[i])\n",
    "        xs = new_xs\n",
    "    return xs[0]\n",
    "\n",
    "\n",
    "def insert_add(xs, man):\n",
    "    xs = xs.clone()\n",
    "    xs = list(xs)\n",
    "    xs_heap = [(abs(x), x) for x in xs]\n",
    "    heapq.heapify(xs_heap)\n",
    "\n",
    "    while len(xs_heap) > 1:\n",
    "        _, a = heapq.heappop(xs_heap)\n",
    "        _, b = heapq.heappop(xs_heap)\n",
    "        r = q(a + b, man)\n",
    "        heapq.heappush(xs_heap, (abs(r), r))\n",
    "    return xs_heap[0][1]\n",
    "\n"
   ]
  },
  {
   "cell_type": "code",
   "execution_count": 12,
   "metadata": {},
   "outputs": [],
   "source": [
    "x = torch.randn(1000)"
   ]
  },
  {
   "cell_type": "code",
   "execution_count": 13,
   "metadata": {},
   "outputs": [
    {
     "name": "stdout",
     "output_type": "stream",
     "text": [
      "tensor(38.3111)\n"
     ]
    }
   ],
   "source": [
    "print(x.sum())"
   ]
  },
  {
   "cell_type": "code",
   "execution_count": 14,
   "metadata": {},
   "outputs": [
    {
     "data": {
      "text/plain": [
       "54.0"
      ]
     },
     "execution_count": 14,
     "metadata": {},
     "output_type": "execute_result"
    }
   ],
   "source": [
    "normal_add(x, 4)"
   ]
  },
  {
   "cell_type": "code",
   "execution_count": 15,
   "metadata": {},
   "outputs": [
    {
     "data": {
      "text/plain": [
       "38.0"
      ]
     },
     "execution_count": 15,
     "metadata": {},
     "output_type": "execute_result"
    }
   ],
   "source": [
    "sorted_add(x, 4)"
   ]
  },
  {
   "cell_type": "code",
   "execution_count": 16,
   "metadata": {},
   "outputs": [
    {
     "data": {
      "text/plain": [
       "tensor(38.3125)"
      ]
     },
     "execution_count": 16,
     "metadata": {},
     "output_type": "execute_result"
    }
   ],
   "source": [
    "insert_add(x, 10)"
   ]
  },
  {
   "cell_type": "code",
   "execution_count": 17,
   "metadata": {},
   "outputs": [],
   "source": [
    "N_EXP = 100\n",
    "fl_result = {}\n",
    "for fl in [6, 7, 8, 9, 10]:\n",
    "    mse_sorted_acc = 0\n",
    "    mse_normal_acc = 0\n",
    "    mse_bitree_acc = 0\n",
    "    mse_insert_acc = 0\n",
    "    for i in range(N_EXP):\n",
    "        x = torch.randn(500)\n",
    "        full_result = x.sum()\n",
    "        sorted_result = sorted_add(x, fl)\n",
    "        normal_result = normal_add(x, fl)\n",
    "        bitree_result = bitree_add(x, fl)\n",
    "        insert_result = insert_add(x, fl)\n",
    "        mse_sorted_acc += (full_result - sorted_result) ** 2\n",
    "        mse_normal_acc += (full_result - normal_result) ** 2\n",
    "        mse_bitree_acc += (full_result - bitree_result) ** 2\n",
    "        mse_insert_acc += (full_result - insert_result) ** 2\n",
    "    fl_result[fl] = {\n",
    "        \"sorted\": mse_sorted_acc / N_EXP,\n",
    "        \"normal\": mse_normal_acc / N_EXP,\n",
    "        \"bitree\": mse_bitree_acc / N_EXP,\n",
    "        \"insert\": mse_insert_acc / N_EXP\n",
    "    }\n",
    "    \n",
    "    "
   ]
  },
  {
   "cell_type": "code",
   "execution_count": 18,
   "metadata": {},
   "outputs": [
    {
     "data": {
      "text/plain": [
       "{6: {'sorted': tensor(0.3556),\n",
       "  'normal': tensor(1.6778),\n",
       "  'bitree': tensor(0.1554),\n",
       "  'insert': tensor(0.0814)},\n",
       " 7: {'sorted': tensor(0.1553),\n",
       "  'normal': tensor(0.3856),\n",
       "  'bitree': tensor(0.0380),\n",
       "  'insert': tensor(0.0196)},\n",
       " 8: {'sorted': tensor(0.0385),\n",
       "  'normal': tensor(0.1051),\n",
       "  'bitree': tensor(0.0084),\n",
       "  'insert': tensor(0.0052)},\n",
       " 9: {'sorted': tensor(0.0065),\n",
       "  'normal': tensor(0.0242),\n",
       "  'bitree': tensor(0.0018),\n",
       "  'insert': tensor(0.0011)},\n",
       " 10: {'sorted': tensor(0.0023),\n",
       "  'normal': tensor(0.0047),\n",
       "  'bitree': tensor(0.0005),\n",
       "  'insert': tensor(0.0002)}}"
      ]
     },
     "execution_count": 18,
     "metadata": {},
     "output_type": "execute_result"
    }
   ],
   "source": [
    "fl_result"
   ]
  },
  {
   "cell_type": "code",
   "execution_count": 19,
   "metadata": {},
   "outputs": [
    {
     "ename": "TypeError",
     "evalue": "unsupported operand type(s) for +: 'int' and 'str'",
     "output_type": "error",
     "traceback": [
      "\u001b[0;31m---------------------------------------------------------------------------\u001b[0m",
      "\u001b[0;31mTypeError\u001b[0m                                 Traceback (most recent call last)",
      "Cell \u001b[0;32mIn[19], line 2\u001b[0m\n\u001b[1;32m      1\u001b[0m \u001b[38;5;28;01mfor\u001b[39;00m fl, result \u001b[38;5;129;01min\u001b[39;00m fl_result\u001b[38;5;241m.\u001b[39mitems():\n\u001b[0;32m----> 2\u001b[0m     \u001b[38;5;28mprint\u001b[39m(fl, \u001b[38;5;28;43msum\u001b[39;49m\u001b[43m(\u001b[49m\u001b[43mresult\u001b[49m\u001b[43m)\u001b[49m\u001b[38;5;241m/\u001b[39m \u001b[38;5;28mlen\u001b[39m(result))\n",
      "\u001b[0;31mTypeError\u001b[0m: unsupported operand type(s) for +: 'int' and 'str'"
     ]
    }
   ],
   "source": [
    "for fl, result in fl_result.items():\n",
    "    print(fl, sum(result)/ len(result))\n"
   ]
  },
  {
   "cell_type": "code",
   "execution_count": null,
   "metadata": {},
   "outputs": [],
   "source": []
  },
  {
   "cell_type": "code",
   "execution_count": null,
   "metadata": {},
   "outputs": [],
   "source": []
  }
 ],
 "metadata": {
  "kernelspec": {
   "display_name": ".venv",
   "language": "python",
   "name": "python3"
  },
  "language_info": {
   "codemirror_mode": {
    "name": "ipython",
    "version": 3
   },
   "file_extension": ".py",
   "mimetype": "text/x-python",
   "name": "python",
   "nbconvert_exporter": "python",
   "pygments_lexer": "ipython3",
   "version": "3.9.18"
  }
 },
 "nbformat": 4,
 "nbformat_minor": 2
}
