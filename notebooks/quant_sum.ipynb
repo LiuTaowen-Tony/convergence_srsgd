{
 "cells": [
  {
   "cell_type": "code",
   "execution_count": 3,
   "metadata": {},
   "outputs": [],
   "source": [
    "import sys\n",
    "sys.path.append(\"..\")"
   ]
  },
  {
   "cell_type": "code",
   "execution_count": 4,
   "metadata": {},
   "outputs": [
    {
     "name": "stderr",
     "output_type": "stream",
     "text": [
      "/home/tl2020/convergence_srsgd/.venv/lib64/python3.9/site-packages/torch/utils/cpp_extension.py:1964: UserWarning: TORCH_CUDA_ARCH_LIST is not set, all archs for visible cards are included for compilation. \n",
      "If this is not desired, please set os.environ['TORCH_CUDA_ARCH_LIST'].\n",
      "  warnings.warn(\n"
     ]
    }
   ],
   "source": [
    "from low_precision_utils import quant"
   ]
  },
  {
   "cell_type": "code",
   "execution_count": 5,
   "metadata": {},
   "outputs": [],
   "source": [
    "import torch"
   ]
  },
  {
   "cell_type": "code",
   "execution_count": 6,
   "metadata": {},
   "outputs": [],
   "source": [
    "x = torch.randn((30,)) * 100\n"
   ]
  },
  {
   "cell_type": "code",
   "execution_count": 7,
   "metadata": {},
   "outputs": [],
   "source": [
    "x1 = quant.IntQuant(fl=-4).quant(x)"
   ]
  },
  {
   "cell_type": "code",
   "execution_count": 8,
   "metadata": {},
   "outputs": [
    {
     "data": {
      "text/plain": [
       "tensor([ -32.,   16., -240., -192.,   -0.,   64.,   48.,  -64.,  -16.,  112.,\n",
       "         256., -256.,  -32., -240.,  -64.,   16.,  -80.,   48., -176.,   64.,\n",
       "        -112.,  176.,   64.,   16.,   80., -112., -160.,   16.,   16.,  -16.])"
      ]
     },
     "execution_count": 8,
     "metadata": {},
     "output_type": "execute_result"
    }
   ],
   "source": [
    "x1"
   ]
  },
  {
   "cell_type": "code",
   "execution_count": 9,
   "metadata": {},
   "outputs": [
    {
     "data": {
      "text/plain": [
       "tensor([ -41.5988,   24.4981, -247.1406, -177.6817,   -7.8955,   58.1012,\n",
       "          48.5418,  -60.0989,  -19.2383,  112.2188,  253.3214, -258.6229,\n",
       "         -29.0268, -246.2362,  -73.4833,   11.2230,  -87.8874,   50.1658,\n",
       "        -184.5584,   57.0788, -108.9716,  182.3041,   66.1753,    5.1976,\n",
       "          78.3296, -111.4436, -152.7802,   13.0764,   16.6714,   -4.4092])"
      ]
     },
     "execution_count": 9,
     "metadata": {},
     "output_type": "execute_result"
    }
   ],
   "source": [
    "x"
   ]
  },
  {
   "cell_type": "code",
   "execution_count": 10,
   "metadata": {},
   "outputs": [],
   "source": [
    "x2 = quant.NoiseQuant(std=0.1).quant(x)"
   ]
  },
  {
   "cell_type": "code",
   "execution_count": 11,
   "metadata": {},
   "outputs": [
    {
     "data": {
      "text/plain": [
       "tensor([ -41.6874,   24.2796, -247.2363, -177.7977,   -8.0358,   58.0377,\n",
       "          48.6358,  -60.0159,  -19.3872,  112.1782,  253.4795, -258.6210,\n",
       "         -29.0780, -246.2655,  -73.5209,   11.3378,  -87.9255,   50.0567,\n",
       "        -184.7548,   57.1682, -109.1733,  182.3753,   65.9985,    5.2073,\n",
       "          78.4330, -111.6468, -152.8599,   13.0707,   16.6053,   -4.5312])"
      ]
     },
     "execution_count": 11,
     "metadata": {},
     "output_type": "execute_result"
    }
   ],
   "source": [
    "x2"
   ]
  },
  {
   "cell_type": "code",
   "execution_count": 12,
   "metadata": {},
   "outputs": [
    {
     "data": {
      "text/plain": [
       "tensor(-834.1700)"
      ]
     },
     "execution_count": 12,
     "metadata": {},
     "output_type": "execute_result"
    }
   ],
   "source": [
    "x.sum()"
   ]
  },
  {
   "cell_type": "code",
   "execution_count": 13,
   "metadata": {},
   "outputs": [
    {
     "data": {
      "text/plain": [
       "tensor(-800.)"
      ]
     },
     "execution_count": 13,
     "metadata": {},
     "output_type": "execute_result"
    }
   ],
   "source": [
    "x1.sum()"
   ]
  },
  {
   "cell_type": "code",
   "execution_count": 14,
   "metadata": {},
   "outputs": [
    {
     "data": {
      "text/plain": [
       "tensor(-835.6736)"
      ]
     },
     "execution_count": 14,
     "metadata": {},
     "output_type": "execute_result"
    }
   ],
   "source": [
    "x2.sum()"
   ]
  },
  {
   "cell_type": "code",
   "execution_count": 15,
   "metadata": {},
   "outputs": [],
   "source": [
    "def estimate_variance(length, repeats=100):\n",
    "    e1 = torch.zeros((repeats,))\n",
    "    e2 = torch.zeros((repeats,))\n",
    "\n",
    "    for i in range(repeats):\n",
    "        x = torch.randn((length,)) + 100\n",
    "        x1 = quant.IntQuant(fl=-8).quant(x)\n",
    "        x2 = quant.NoiseQuant(std=0.5).quant(x)\n",
    "        e1[i] = (x1.sum() - x.sum()) / length\n",
    "        e2[i] = (x2.sum() - x.sum()) / length\n",
    "    print(x1[:10])\n",
    "\n",
    "    return e1.var(), e2.var()"
   ]
  },
  {
   "cell_type": "code",
   "execution_count": 16,
   "metadata": {},
   "outputs": [
    {
     "name": "stdout",
     "output_type": "stream",
     "text": [
      "tensor([  0.,   0.,   0., 256.,   0.,   0., 256.,   0.,   0.,   0.])\n",
      "(tensor(143.0426), tensor(0.0028))\n",
      "tensor([  0.,   0.,  -0.,   0., 256.,   0.,   0.,  -0.,  -0.,   0.])\n",
      "(tensor(82.4569), tensor(0.0012))\n",
      "tensor([  0., 256.,   0.,   0.,   0.,   0., 256.,   0.,   0.,   0.])\n",
      "(tensor(39.0596), tensor(0.0006))\n",
      "tensor([256., 256., 256., 256.,  -0., 256.,   0., 256.,   0., 256.])\n",
      "(tensor(16.3998), tensor(0.0003))\n",
      "tensor([  0.,   0.,   0., 256.,   0.,   0.,   0.,   0., 256.,   0.])\n",
      "(tensor(9.4365), tensor(0.0002))\n",
      "tensor([  0.,   0.,   0., 256., 256.,   0.,   0., 256.,   0., 256.])\n",
      "(tensor(4.9419), tensor(8.3436e-05))\n"
     ]
    }
   ],
   "source": [
    "for length in [100, 200, 400, 800, 1600, 3200]:\n",
    "    print(estimate_variance(length, 200))"
   ]
  },
  {
   "cell_type": "code",
   "execution_count": 28,
   "metadata": {},
   "outputs": [],
   "source": [
    "ls = [torch.randn((100,)).sum() / 100 for _ in range(100)]"
   ]
  },
  {
   "cell_type": "code",
   "execution_count": 29,
   "metadata": {},
   "outputs": [
    {
     "data": {
      "text/plain": [
       "tensor(0.0106)"
      ]
     },
     "execution_count": 29,
     "metadata": {},
     "output_type": "execute_result"
    }
   ],
   "source": [
    "torch.var(torch.tensor(ls))"
   ]
  },
  {
   "cell_type": "code",
   "execution_count": null,
   "metadata": {},
   "outputs": [],
   "source": []
  }
 ],
 "metadata": {
  "kernelspec": {
   "display_name": ".venv",
   "language": "python",
   "name": "python3"
  },
  "language_info": {
   "codemirror_mode": {
    "name": "ipython",
    "version": 3
   },
   "file_extension": ".py",
   "mimetype": "text/x-python",
   "name": "python",
   "nbconvert_exporter": "python",
   "pygments_lexer": "ipython3",
   "version": "3.9.18"
  }
 },
 "nbformat": 4,
 "nbformat_minor": 2
}
