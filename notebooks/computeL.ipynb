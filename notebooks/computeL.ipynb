{
 "cells": [
  {
   "cell_type": "code",
   "execution_count": 4,
   "metadata": {},
   "outputs": [],
   "source": [
    "import pandas as pd\n",
    "import torch\n",
    "\n",
    "def loadLinearData(device):\n",
    "    from sklearn.model_selection import train_test_split\n",
    "    from sklearn.datasets import fetch_openml\n",
    "\n",
    "    # Load the Boston Housing Dataset\n",
    "    boston = fetch_openml(name='boston', version=1)\n",
    "\n",
    "    # Creating a DataFrame\n",
    "    boston_df = pd.DataFrame(boston.data, columns=boston.feature_names)\n",
    "\n",
    "    # Adding the target variable to the DataFrame\n",
    "    boston_df['PRICE'] = boston.target\n",
    "\n",
    "    # Display the first few rows of the dataset\n",
    "    print(boston_df.head())\n",
    "\n",
    "    # Selecting multiple features\n",
    "    features = ['CRIM', 'RM', 'AGE', 'DIS', 'LSTAT']\n",
    "    X = boston_df[features].values\n",
    "    X = (X - X.mean(axis=0)) / X.std(axis=0)\n",
    "    y = boston_df['PRICE'].values\n",
    "    y = (y - y.mean()) / y.std() \n",
    "\n",
    "    # Split the dataset into training and testing sets\n",
    "    X_train, X_test, y_train, y_test = train_test_split(X, y, test_size=0.2, random_state=42)\n",
    "    return (torch.tensor(X_train, dtype=torch.float32).to(device), \n",
    "            torch.tensor(y_train, dtype=torch.float32).view(-1, 1).to(device), \n",
    "            torch.tensor(X_test, dtype=torch.float32).to(device), \n",
    "            torch.tensor(y_test, dtype=torch.float32).view(-1, 1).to(device))\n"
   ]
  },
  {
   "cell_type": "code",
   "execution_count": null,
   "metadata": {},
   "outputs": [],
   "source": []
  },
  {
   "cell_type": "code",
   "execution_count": 5,
   "metadata": {},
   "outputs": [
    {
     "name": "stdout",
     "output_type": "stream",
     "text": [
      "      CRIM    ZN  INDUS CHAS    NOX     RM   AGE     DIS RAD    TAX  PTRATIO  \\\n",
      "0  0.00632  18.0   2.31    0  0.538  6.575  65.2  4.0900   1  296.0     15.3   \n",
      "1  0.02731   0.0   7.07    0  0.469  6.421  78.9  4.9671   2  242.0     17.8   \n",
      "2  0.02729   0.0   7.07    0  0.469  7.185  61.1  4.9671   2  242.0     17.8   \n",
      "3  0.03237   0.0   2.18    0  0.458  6.998  45.8  6.0622   3  222.0     18.7   \n",
      "4  0.06905   0.0   2.18    0  0.458  7.147  54.2  6.0622   3  222.0     18.7   \n",
      "\n",
      "        B  LSTAT  PRICE  \n",
      "0  396.90   4.98   24.0  \n",
      "1  396.90   9.14   21.6  \n",
      "2  392.83   4.03   34.7  \n",
      "3  394.63   2.94   33.4  \n",
      "4  396.90   5.33   36.2  \n"
     ]
    }
   ],
   "source": [
    "A, *_ = loadLinearData(\"cpu\")"
   ]
  },
  {
   "cell_type": "code",
   "execution_count": 7,
   "metadata": {},
   "outputs": [],
   "source": [
    "import numpy as np\n",
    "A = np.array(A)"
   ]
  },
  {
   "cell_type": "code",
   "execution_count": 10,
   "metadata": {},
   "outputs": [
    {
     "data": {
      "text/plain": [
       "(404, 5)"
      ]
     },
     "execution_count": 10,
     "metadata": {},
     "output_type": "execute_result"
    }
   ],
   "source": [
    "A.shape"
   ]
  },
  {
   "cell_type": "code",
   "execution_count": 11,
   "metadata": {},
   "outputs": [],
   "source": [
    "import numpy as np\n",
    "\n",
    "# Compute A^T * A\n",
    "AtA = np.dot(A.T, A)\n",
    "\n",
    "# Compute the maximum eigenvalue of A^T * A\n",
    "eigenvalues = np.linalg.eigvals(AtA)\n",
    "L = np.max(eigenvalues)\n"
   ]
  },
  {
   "cell_type": "code",
   "execution_count": 12,
   "metadata": {},
   "outputs": [
    {
     "data": {
      "text/plain": [
       "1111.057"
      ]
     },
     "execution_count": 12,
     "metadata": {},
     "output_type": "execute_result"
    }
   ],
   "source": [
    "L"
   ]
  },
  {
   "cell_type": "code",
   "execution_count": 13,
   "metadata": {},
   "outputs": [
    {
     "data": {
      "text/plain": [
       "0.0009000438265969763"
      ]
     },
     "execution_count": 13,
     "metadata": {},
     "output_type": "execute_result"
    }
   ],
   "source": [
    "1 / L"
   ]
  },
  {
   "cell_type": "code",
   "execution_count": null,
   "metadata": {},
   "outputs": [],
   "source": []
  }
 ],
 "metadata": {
  "kernelspec": {
   "display_name": ".venv",
   "language": "python",
   "name": "python3"
  },
  "language_info": {
   "codemirror_mode": {
    "name": "ipython",
    "version": 3
   },
   "file_extension": ".py",
   "mimetype": "text/x-python",
   "name": "python",
   "nbconvert_exporter": "python",
   "pygments_lexer": "ipython3",
   "version": "3.9.18"
  }
 },
 "nbformat": 4,
 "nbformat_minor": 2
}
