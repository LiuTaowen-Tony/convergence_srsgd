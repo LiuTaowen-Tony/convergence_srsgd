{
 "cells": [
  {
   "cell_type": "code",
   "execution_count": 5,
   "metadata": {},
   "outputs": [
    {
     "name": "stdout",
     "output_type": "stream",
     "text": [
      "tensor(0.0623, grad_fn=<StdBackward0>)\n",
      "tensor(0.0063, grad_fn=<StdBackward0>)\n",
      "0 1.0000107288360596\n",
      "100 1.0000088214874268\n",
      "200 1.0000059604644775\n",
      "300 1.0000035762786865\n",
      "400 1.0000020265579224\n",
      "500 1.000000238418579\n",
      "600 0.9999986290931702\n",
      "700 0.9999960064888\n",
      "800 0.999993622303009\n",
      "900 0.999990701675415\n",
      "1000 0.9999892711639404\n",
      "1100 0.9999869465827942\n",
      "1200 0.9999849796295166\n",
      "1300 0.9999825954437256\n",
      "1400 0.999980092048645\n",
      "1500 0.999978244304657\n",
      "1600 0.9999765157699585\n",
      "1700 0.9999735355377197\n",
      "1800 0.9999708533287048\n",
      "1900 0.9999697804450989\n"
     ]
    },
    {
     "ename": "KeyboardInterrupt",
     "evalue": "",
     "output_type": "error",
     "traceback": [
      "\u001b[0;31m---------------------------------------------------------------------------\u001b[0m",
      "\u001b[0;31mKeyboardInterrupt\u001b[0m                         Traceback (most recent call last)",
      "Cell \u001b[0;32mIn[5], line 27\u001b[0m\n\u001b[1;32m     25\u001b[0m a, b \u001b[38;5;241m=\u001b[39m th\u001b[38;5;241m.\u001b[39mrandn(d), th\u001b[38;5;241m.\u001b[39mrandn(d)\n\u001b[1;32m     26\u001b[0m loss \u001b[38;5;241m=\u001b[39m \u001b[38;5;241m0.5\u001b[39m\u001b[38;5;241m*\u001b[39m(a\u001b[38;5;129m@T\u001b[39m\u001b[38;5;129m@b\u001b[39m\u001b[38;5;241m-\u001b[39ma\u001b[38;5;129m@W1\u001b[39m\u001b[38;5;129m@W2\u001b[39m\u001b[38;5;129m@b\u001b[39m)\u001b[38;5;241m*\u001b[39m\u001b[38;5;241m*\u001b[39m\u001b[38;5;241m2\u001b[39m\n\u001b[0;32m---> 27\u001b[0m \u001b[43mloss\u001b[49m\u001b[38;5;241;43m.\u001b[39;49m\u001b[43mbackward\u001b[49m\u001b[43m(\u001b[49m\u001b[43m)\u001b[49m\n\u001b[1;32m     28\u001b[0m \u001b[38;5;28;01mwith\u001b[39;00m th\u001b[38;5;241m.\u001b[39mno_grad():\n\u001b[1;32m     29\u001b[0m   \u001b[38;5;28;01mfor\u001b[39;00m param \u001b[38;5;129;01min\u001b[39;00m [W1,W2]:\n",
      "File \u001b[0;32m~/convergence_srsgd/.venv/lib64/python3.9/site-packages/torch/_tensor.py:522\u001b[0m, in \u001b[0;36mTensor.backward\u001b[0;34m(self, gradient, retain_graph, create_graph, inputs)\u001b[0m\n\u001b[1;32m    512\u001b[0m \u001b[38;5;28;01mif\u001b[39;00m has_torch_function_unary(\u001b[38;5;28mself\u001b[39m):\n\u001b[1;32m    513\u001b[0m     \u001b[38;5;28;01mreturn\u001b[39;00m handle_torch_function(\n\u001b[1;32m    514\u001b[0m         Tensor\u001b[38;5;241m.\u001b[39mbackward,\n\u001b[1;32m    515\u001b[0m         (\u001b[38;5;28mself\u001b[39m,),\n\u001b[0;32m   (...)\u001b[0m\n\u001b[1;32m    520\u001b[0m         inputs\u001b[38;5;241m=\u001b[39minputs,\n\u001b[1;32m    521\u001b[0m     )\n\u001b[0;32m--> 522\u001b[0m \u001b[43mtorch\u001b[49m\u001b[38;5;241;43m.\u001b[39;49m\u001b[43mautograd\u001b[49m\u001b[38;5;241;43m.\u001b[39;49m\u001b[43mbackward\u001b[49m\u001b[43m(\u001b[49m\n\u001b[1;32m    523\u001b[0m \u001b[43m    \u001b[49m\u001b[38;5;28;43mself\u001b[39;49m\u001b[43m,\u001b[49m\u001b[43m \u001b[49m\u001b[43mgradient\u001b[49m\u001b[43m,\u001b[49m\u001b[43m \u001b[49m\u001b[43mretain_graph\u001b[49m\u001b[43m,\u001b[49m\u001b[43m \u001b[49m\u001b[43mcreate_graph\u001b[49m\u001b[43m,\u001b[49m\u001b[43m \u001b[49m\u001b[43minputs\u001b[49m\u001b[38;5;241;43m=\u001b[39;49m\u001b[43minputs\u001b[49m\n\u001b[1;32m    524\u001b[0m \u001b[43m\u001b[49m\u001b[43m)\u001b[49m\n",
      "File \u001b[0;32m~/convergence_srsgd/.venv/lib64/python3.9/site-packages/torch/autograd/__init__.py:266\u001b[0m, in \u001b[0;36mbackward\u001b[0;34m(tensors, grad_tensors, retain_graph, create_graph, grad_variables, inputs)\u001b[0m\n\u001b[1;32m    261\u001b[0m     retain_graph \u001b[38;5;241m=\u001b[39m create_graph\n\u001b[1;32m    263\u001b[0m \u001b[38;5;66;03m# The reason we repeat the same comment below is that\u001b[39;00m\n\u001b[1;32m    264\u001b[0m \u001b[38;5;66;03m# some Python versions print out the first line of a multi-line function\u001b[39;00m\n\u001b[1;32m    265\u001b[0m \u001b[38;5;66;03m# calls in the traceback and some print out the last line\u001b[39;00m\n\u001b[0;32m--> 266\u001b[0m \u001b[43mVariable\u001b[49m\u001b[38;5;241;43m.\u001b[39;49m\u001b[43m_execution_engine\u001b[49m\u001b[38;5;241;43m.\u001b[39;49m\u001b[43mrun_backward\u001b[49m\u001b[43m(\u001b[49m\u001b[43m  \u001b[49m\u001b[38;5;66;43;03m# Calls into the C++ engine to run the backward pass\u001b[39;49;00m\n\u001b[1;32m    267\u001b[0m \u001b[43m    \u001b[49m\u001b[43mtensors\u001b[49m\u001b[43m,\u001b[49m\n\u001b[1;32m    268\u001b[0m \u001b[43m    \u001b[49m\u001b[43mgrad_tensors_\u001b[49m\u001b[43m,\u001b[49m\n\u001b[1;32m    269\u001b[0m \u001b[43m    \u001b[49m\u001b[43mretain_graph\u001b[49m\u001b[43m,\u001b[49m\n\u001b[1;32m    270\u001b[0m \u001b[43m    \u001b[49m\u001b[43mcreate_graph\u001b[49m\u001b[43m,\u001b[49m\n\u001b[1;32m    271\u001b[0m \u001b[43m    \u001b[49m\u001b[43minputs\u001b[49m\u001b[43m,\u001b[49m\n\u001b[1;32m    272\u001b[0m \u001b[43m    \u001b[49m\u001b[43mallow_unreachable\u001b[49m\u001b[38;5;241;43m=\u001b[39;49m\u001b[38;5;28;43;01mTrue\u001b[39;49;00m\u001b[43m,\u001b[49m\n\u001b[1;32m    273\u001b[0m \u001b[43m    \u001b[49m\u001b[43maccumulate_grad\u001b[49m\u001b[38;5;241;43m=\u001b[39;49m\u001b[38;5;28;43;01mTrue\u001b[39;49;00m\u001b[43m,\u001b[49m\n\u001b[1;32m    274\u001b[0m \u001b[43m\u001b[49m\u001b[43m)\u001b[49m\n",
      "\u001b[0;31mKeyboardInterrupt\u001b[0m: "
     ]
    }
   ],
   "source": [
    "#%%\n",
    "%matplotlib inline\n",
    "import torch as th\n",
    "import matplotlib.pyplot as plt\n",
    "th.manual_seed(0)\n",
    "\n",
    "d = 256      # Input and output dimension\n",
    "r = 2        # Rank of ground truth matrix\n",
    "lr = 2e-8    # Learning rate\n",
    "yscale = 1 # Scale factor for ground truth\n",
    "\n",
    "T = th.randn(d,r)@th.randn(r,d) * yscale\n",
    "\n",
    "W1 = th.randn(d,d, requires_grad=True)\n",
    "W2 = th.randn(d,d, requires_grad=True)\n",
    "th.nn.init.xavier_normal_(W1, )\n",
    "th.nn.init.xavier_normal_(W2, gain=1/10)\n",
    "print(W1.std())\n",
    "print(W2.std())\n",
    "# W1 = W1 / 10\n",
    "# W2 = W2 / 10\n",
    "\n",
    "log = []\n",
    "for i in range(d*d//2):\n",
    "  a, b = th.randn(d), th.randn(d)\n",
    "  loss = 0.5*(a@T@b-a@W1@W2@b)**2\n",
    "  loss.backward()\n",
    "  with th.no_grad():\n",
    "    for param in [W1,W2]:\n",
    "      param -= lr * param.grad # Gradient descent\n",
    "      param.grad[:] = 0\n",
    "  if i%100 == 0:\n",
    "    error = (W1@W2-T).norm()/T.norm() # Relative error\n",
    "    print(i, error.item())\n",
    "    log.append((i,error.item()))\n",
    "\n",
    "plt.plot(*zip(*log))\n",
    "plt.show()"
   ]
  },
  {
   "cell_type": "code",
   "execution_count": null,
   "metadata": {},
   "outputs": [],
   "source": []
  }
 ],
 "metadata": {
  "kernelspec": {
   "display_name": ".venv",
   "language": "python",
   "name": "python3"
  },
  "language_info": {
   "codemirror_mode": {
    "name": "ipython",
    "version": 3
   },
   "file_extension": ".py",
   "mimetype": "text/x-python",
   "name": "python",
   "nbconvert_exporter": "python",
   "pygments_lexer": "ipython3",
   "version": "3.9.18"
  }
 },
 "nbformat": 4,
 "nbformat_minor": 2
}
